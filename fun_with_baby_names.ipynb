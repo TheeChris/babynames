{
 "cells": [
  {
   "cell_type": "markdown",
   "metadata": {},
   "source": [
    "# Calculating the uniqueness and average age of my children\n",
    "This is just a playful analysis of my kids' names using data from the Social Security Administration (SSA). In particular, I was curious about the fact that before my daughter, I only ever knew of two women named Maya: Angelou and Rudolph. We named our daughter after the former, believing it to be a beautiful and seemingly unique name, and Maya Angelou was a great poet and activist who had died shortly before our daughter's birth. (Side note: it also allowed me to tie in my love for astronomy: the \"oldest sister\" in the Pleiades star cluster is named Maia). However, when we moved to California a few of years ago, we started meeting several girls between the ages of 2 to 12 named Maya. Is the name more popular than we realized? Or is this a case of frequency illusion? With regards to our son, Henry, we assumed that the average age of Henry's has to be around 80, but again, we seem to be meeting more and more kids named Henry. So what is the average age of Henrys? Let's see what we can find out.\n",
    "\n",
    "## 1.0 Load Libraries\n",
    "We will use a few libraries for reading data (io, zipfile, urllib), data manipulation (pandas, numpy), and visualization (matplotlib, plotly)."
   ]
  },
  {
   "cell_type": "code",
   "execution_count": 1,
   "metadata": {},
   "outputs": [],
   "source": [
    "# Load Modules\n",
    "import pandas as pd\n",
    "import matplotlib.pyplot as plt\n",
    "import numpy as np\n",
    "from io import BytesIO\n",
    "from zipfile import ZipFile\n",
    "from urllib.request import urlopen\n",
    "import plotly.plotly as py\n",
    "import plotly.graph_objs as go\n",
    "from IPython.display import IFrame\n",
    "\n",
    "plt.style.use('ggplot')"
   ]
  },
  {
   "cell_type": "markdown",
   "metadata": {},
   "source": [
    "## 1.1 Load the Data\n",
    "We will be pulling in data from the [SSA's baby names dataset](https://catalog.data.gov/dataset/baby-names-from-social-security-card-applications-national-level-data). This is a zip file containing data on names, birth counts, and sex broken down into individual files for each year. We will extract the files and append them to a dataframe for easy manipulation."
   ]
  },
  {
   "cell_type": "code",
   "execution_count": 2,
   "metadata": {},
   "outputs": [
    {
     "data": {
      "text/html": [
       "<div>\n",
       "<style scoped>\n",
       "    .dataframe tbody tr th:only-of-type {\n",
       "        vertical-align: middle;\n",
       "    }\n",
       "\n",
       "    .dataframe tbody tr th {\n",
       "        vertical-align: top;\n",
       "    }\n",
       "\n",
       "    .dataframe thead th {\n",
       "        text-align: right;\n",
       "    }\n",
       "</style>\n",
       "<table border=\"1\" class=\"dataframe\">\n",
       "  <thead>\n",
       "    <tr style=\"text-align: right;\">\n",
       "      <th></th>\n",
       "      <th>Year</th>\n",
       "      <th>Name</th>\n",
       "      <th>Sex</th>\n",
       "      <th>Count</th>\n",
       "    </tr>\n",
       "  </thead>\n",
       "  <tbody>\n",
       "    <tr>\n",
       "      <th>4627</th>\n",
       "      <td>1935</td>\n",
       "      <td>Madell</td>\n",
       "      <td>F</td>\n",
       "      <td>5</td>\n",
       "    </tr>\n",
       "    <tr>\n",
       "      <th>9682</th>\n",
       "      <td>2002</td>\n",
       "      <td>Dhamar</td>\n",
       "      <td>F</td>\n",
       "      <td>10</td>\n",
       "    </tr>\n",
       "    <tr>\n",
       "      <th>3920</th>\n",
       "      <td>1971</td>\n",
       "      <td>Starlet</td>\n",
       "      <td>F</td>\n",
       "      <td>16</td>\n",
       "    </tr>\n",
       "    <tr>\n",
       "      <th>1053</th>\n",
       "      <td>1885</td>\n",
       "      <td>Arlena</td>\n",
       "      <td>F</td>\n",
       "      <td>5</td>\n",
       "    </tr>\n",
       "    <tr>\n",
       "      <th>14155</th>\n",
       "      <td>2004</td>\n",
       "      <td>Zharick</td>\n",
       "      <td>F</td>\n",
       "      <td>7</td>\n",
       "    </tr>\n",
       "    <tr>\n",
       "      <th>3021</th>\n",
       "      <td>1920</td>\n",
       "      <td>Macil</td>\n",
       "      <td>F</td>\n",
       "      <td>11</td>\n",
       "    </tr>\n",
       "    <tr>\n",
       "      <th>6260</th>\n",
       "      <td>1953</td>\n",
       "      <td>Min</td>\n",
       "      <td>F</td>\n",
       "      <td>5</td>\n",
       "    </tr>\n",
       "    <tr>\n",
       "      <th>8378</th>\n",
       "      <td>1939</td>\n",
       "      <td>Ronell</td>\n",
       "      <td>M</td>\n",
       "      <td>6</td>\n",
       "    </tr>\n",
       "    <tr>\n",
       "      <th>27398</th>\n",
       "      <td>2001</td>\n",
       "      <td>Cashawn</td>\n",
       "      <td>M</td>\n",
       "      <td>6</td>\n",
       "    </tr>\n",
       "    <tr>\n",
       "      <th>22416</th>\n",
       "      <td>2015</td>\n",
       "      <td>Syler</td>\n",
       "      <td>M</td>\n",
       "      <td>34</td>\n",
       "    </tr>\n",
       "  </tbody>\n",
       "</table>\n",
       "</div>"
      ],
      "text/plain": [
       "       Year     Name Sex  Count\n",
       "4627   1935   Madell   F      5\n",
       "9682   2002   Dhamar   F     10\n",
       "3920   1971  Starlet   F     16\n",
       "1053   1885   Arlena   F      5\n",
       "14155  2004  Zharick   F      7\n",
       "3021   1920    Macil   F     11\n",
       "6260   1953      Min   F      5\n",
       "8378   1939   Ronell   M      6\n",
       "27398  2001  Cashawn   M      6\n",
       "22416  2015    Syler   M     34"
      ]
     },
     "execution_count": 2,
     "metadata": {},
     "output_type": "execute_result"
    }
   ],
   "source": [
    "def build_babynames_dataframe(file_url='https://www.ssa.gov/oact/babynames/names.zip'):\n",
    "    '''\n",
    "    This is a function to create a Pandas dataframe from the Social Security Administration's\n",
    "    zip file containing data back to 1880.\n",
    "    '''\n",
    "    resp = urlopen(file_url)\n",
    "    zipfile = ZipFile(BytesIO(resp.read()))\n",
    "    \n",
    "    babynames = []\n",
    "    \n",
    "    filenames = [f for f in zipfile.namelist() if f.startswith('yob')]\n",
    "    \n",
    "    for each in filenames:\n",
    "        # open each txt file\n",
    "        file = zipfile.open(each)\n",
    "        \n",
    "        # define column names\n",
    "        columns = ['Name', 'Sex', 'Count']\n",
    "        \n",
    "        # read each csv file into a dataframe\n",
    "        df = pd.read_csv(file, sep=',', header=0, names=columns)\n",
    "        \n",
    "        # extract the year from the filename\n",
    "        year = int(''.join([d for d in each if d.isdigit()]))\n",
    "        \n",
    "        # insert a column for the year\n",
    "        df.insert(0, 'Year', year)\n",
    "    \n",
    "        # append each year's dataframe to the babynames list\n",
    "        babynames.append(df)\n",
    "\n",
    "    # convert the babynames list into a dataframe\n",
    "    babynames = pd.concat(babynames, axis=0)\n",
    "    \n",
    "    return babynames\n",
    "\n",
    "babynames = build_babynames_dataframe()\n",
    "babynames.sample(10)"
   ]
  },
  {
   "cell_type": "markdown",
   "metadata": {},
   "source": [
    "## 2.0 The Popularity of Maya\n",
    "Let's start by plotting the number of babies named Maya or Henry dating back to 1880."
   ]
  },
  {
   "cell_type": "code",
   "execution_count": 4,
   "metadata": {},
   "outputs": [
    {
     "data": {
      "text/html": [
       "<iframe id=\"igraph\" scrolling=\"no\" style=\"border:none;\" seamless=\"seamless\" src=\"https://plot.ly/~echris/4.embed\" height=\"525px\" width=\"100%\"></iframe>"
      ],
      "text/plain": [
       "<plotly.tools.PlotlyDisplay object>"
      ]
     },
     "execution_count": 4,
     "metadata": {},
     "output_type": "execute_result"
    }
   ],
   "source": [
    "def get_info(name, sex):\n",
    "    '''\n",
    "    This function takes a name and sex and generates a dataframe \n",
    "    with that specific information from the babynames dataframe\n",
    "    '''\n",
    "    name_data = babynames[(babynames['Name'] == name) & (babynames['Sex'] == sex)]\n",
    "    return name_data\n",
    "\n",
    "def plot_trends(names, sex, scale='linear', years=[1880,2017], count=[0,12], \n",
    "                title=None, cmap='Set2'):\n",
    "    '''\n",
    "    This function takes a name and sex and creates a plot showing\n",
    "    the number of births for that name from 1880 to 2017\n",
    "    '''\n",
    "    colors = [c for c in plt.get_cmap(cmap).colors]\n",
    "    data = []\n",
    "    for idx in range(len(names)):\n",
    "        info = get_info(names[idx], sex[idx])\n",
    "        \n",
    "        trace = go.Scatter(\n",
    "            x = info['Year'],\n",
    "            y = info['Count']/1000,\n",
    "            mode = 'lines',\n",
    "            name = names[idx])\n",
    "        \n",
    "        data.append(trace)\n",
    "        \n",
    "        layout = go.Layout(\n",
    "            title=title,\n",
    "            xaxis=dict(\n",
    "                range=years,\n",
    "                dtick=10,\n",
    "                title='Year',\n",
    "                titlefont=dict(\n",
    "                    family='Courier New, monospace',\n",
    "                    size=18,\n",
    "                    color='#7f7f7f'\n",
    "                )\n",
    "            ),\n",
    "            yaxis=dict(\n",
    "                range=count,\n",
    "                dtick=2,\n",
    "                title='Count (thousands)',\n",
    "                titlefont=dict(\n",
    "                    family='Courier New, monospace',\n",
    "                    size=18,\n",
    "                    color='#7f7f7f'\n",
    "                    )\n",
    "                )\n",
    "            )\n",
    "        \n",
    "        fig = go.Figure(data=data, layout=layout)\n",
    "        \n",
    "    return py.iplot(fig, filename=title)\n",
    "\n",
    "# Plot trends for Maya and Henry\n",
    "kids = ['Maya','Henry']\n",
    "plot_trends(kids, ['F','M'], title='The Popularity of Henry & Maya')"
   ]
  },
  {
   "cell_type": "markdown",
   "metadata": {},
   "source": [
    "Regarding the name Maya, the first thing that stands out is that it doesn't appear in the SSA data until around 1940. The name is found in lots of cultures, so I'm curious if the introduction of the name into the US was the result of post-World War II migration.  Unfortunately, that will remain speculation with this current data set, but maybe something to look into in the future.  There has definitely been a steady increase in girls named Maya since the mid-1980s, with a peak just before my daughter was born. This peak, however, is nothing compared to the numbers we are getting from the name Henry. It seems like Henry is making a very strong comeback and nearing its peak in the early 20th century.  Looks like we are going to have a lot of Henrys over the age of 75 and under the age of 10.\n",
    "\n",
    "So far it seems like Maya is a relatively unique name.  To get a better idea of how unique, let's plot Maya against the top 5 most popular girl's name for 2014. I will create dataframes for each of the top 5 names so that we can pull the birth count numbers over time. Then we can plot the data compared to the name Maya.  Interestingly enough, if you plot all of the birth counts of these names over the years, you will see that they were all relatively unpopular until the mid-80's and 90's when they all began to climb rapidly. For this reason, I started the data off at 1980 so that we can get a better look."
   ]
  },
  {
   "cell_type": "code",
   "execution_count": 5,
   "metadata": {},
   "outputs": [
    {
     "data": {
      "text/html": [
       "<iframe id=\"igraph\" scrolling=\"no\" style=\"border:none;\" seamless=\"seamless\" src=\"https://plot.ly/~echris/16.embed\" height=\"525px\" width=\"100%\"></iframe>"
      ],
      "text/plain": [
       "<plotly.tools.PlotlyDisplay object>"
      ]
     },
     "execution_count": 5,
     "metadata": {},
     "output_type": "execute_result"
    }
   ],
   "source": [
    "def get_popular_names(df, sex, year, topn):\n",
    "    '''\n",
    "    A function to return the most popular names for a given sex and year.\n",
    "    '''\n",
    "    topn_df = df[(df.Sex == sex) & (df.Year == year)]\n",
    "    topn_array = np.array(topn_df.iloc[:topn,1]).tolist()\n",
    "    \n",
    "    return topn_array\n",
    "\n",
    "# Top 5 female names in 2014\n",
    "top5_2014 = get_popular_names(df   = babynames,\n",
    "                              sex  = 'F',\n",
    "                              year = 2014,\n",
    "                              topn = 5\n",
    "                             )\n",
    "\n",
    "# add Maya to list of names\n",
    "top5_2014.append('Maya')\n",
    "\n",
    "sex_list = ['F' for i in range(len(top5_2014))]\n",
    "plot_trends(top5_2014, sex=sex_list, years=[1980,2017], count=[0,22], \n",
    "                title='Maya vs Top 5 Girls Names in 2014')"
   ]
  },
  {
   "cell_type": "markdown",
   "metadata": {},
   "source": [
    "We can see from the plot that the name Maya was only about 1/5th as popular as the name Olivia.  However, it does not give us a very robust idea of the name popularity. We could really dive in and start calculating the number of Maya's projected to be living between the ages of 2 and 14, and from that determine the percentage of 2- to 14-year-olds named Maya, but let's just look at one last calculation to get a better idea of the popularity of the names in 2014."
   ]
  },
  {
   "cell_type": "code",
   "execution_count": 7,
   "metadata": {},
   "outputs": [
    {
     "name": "stdout",
     "output_type": "stream",
     "text": [
      "Maya was ranked 73 in 2014 birth names.\n"
     ]
    }
   ],
   "source": [
    "# compute total number of births by year\n",
    "total_by_year = babynames.groupby(['Year']).sum()\n",
    "\n",
    "#compute total number of births by year and sex\n",
    "total_by_sex_and_year = babynames.groupby(['Year','Sex']).sum()\n",
    "\n",
    "# reset indices for merging\n",
    "total_by_year = total_by_year.reset_index()\n",
    "total_by_sex_and_year = total_by_sex_and_year.reset_index()\n",
    "\n",
    "# merge total by year column\n",
    "babynames = babynames.merge(total_by_year, on='Year', suffixes=('','_yr'))\n",
    "\n",
    "# merge total by sex and year columns\n",
    "babynames = babynames.merge(total_by_sex_and_year, on=['Year','Sex'], suffixes=('','_sex'))\n",
    "\n",
    "# rename columns\n",
    "babynames.columns = ['Year', 'Name', 'Sex', 'Count', 'Total_by_Year','Total_by_Sex_and_Year']\n",
    "\n",
    "# Add columns to dataframe: 'Percent of Total' and 'Percent by Sex'\n",
    "babynames['Pct_of_Total'] = (babynames['Count'] / babynames['Total_by_Year']) * 100\n",
    "babynames['Pct_by_Sex'] = (babynames['Count'] / babynames['Total_by_Sex_and_Year']) * 100\n",
    "\n",
    "# get the ranking of Maya in 2014\n",
    "rank = babynames[(babynames.Year == 2014) & (babynames.Sex == 'F')].sort_values(by='Count', ascending=False).reset_index( drop=True)\n",
    "print('Maya was ranked {} in 2014 birth names.'.format(rank[rank.Name == 'Maya'].index[0]+1))"
   ]
  },
  {
   "cell_type": "code",
   "execution_count": 17,
   "metadata": {},
   "outputs": [
    {
     "data": {
      "text/html": [
       "<style  type=\"text/css\" >\n",
       "    #T_0e5f2e36_5723_11e9_8d96_28c63fca1b8crow0_col0 {\n",
       "            background-color:  #fee838;\n",
       "            color:  #000000;\n",
       "        }    #T_0e5f2e36_5723_11e9_8d96_28c63fca1b8crow0_col1 {\n",
       "            background-color:  #fee838;\n",
       "            color:  #000000;\n",
       "        }    #T_0e5f2e36_5723_11e9_8d96_28c63fca1b8crow1_col0 {\n",
       "            background-color:  #ebd44b;\n",
       "            color:  #000000;\n",
       "        }    #T_0e5f2e36_5723_11e9_8d96_28c63fca1b8crow1_col1 {\n",
       "            background-color:  #ebd44b;\n",
       "            color:  #000000;\n",
       "        }    #T_0e5f2e36_5723_11e9_8d96_28c63fca1b8crow2_col0 {\n",
       "            background-color:  #d1bf61;\n",
       "            color:  #000000;\n",
       "        }    #T_0e5f2e36_5723_11e9_8d96_28c63fca1b8crow2_col1 {\n",
       "            background-color:  #d1bf61;\n",
       "            color:  #000000;\n",
       "        }    #T_0e5f2e36_5723_11e9_8d96_28c63fca1b8crow3_col0 {\n",
       "            background-color:  #b9ab6d;\n",
       "            color:  #000000;\n",
       "        }    #T_0e5f2e36_5723_11e9_8d96_28c63fca1b8crow3_col1 {\n",
       "            background-color:  #b9ab6d;\n",
       "            color:  #000000;\n",
       "        }    #T_0e5f2e36_5723_11e9_8d96_28c63fca1b8crow4_col0 {\n",
       "            background-color:  #958f77;\n",
       "            color:  #000000;\n",
       "        }    #T_0e5f2e36_5723_11e9_8d96_28c63fca1b8crow4_col1 {\n",
       "            background-color:  #958f77;\n",
       "            color:  #000000;\n",
       "        }    #T_0e5f2e36_5723_11e9_8d96_28c63fca1b8crow5_col0 {\n",
       "            background-color:  #00224e;\n",
       "            color:  #f1f1f1;\n",
       "        }    #T_0e5f2e36_5723_11e9_8d96_28c63fca1b8crow5_col1 {\n",
       "            background-color:  #00224e;\n",
       "            color:  #f1f1f1;\n",
       "        }</style><table id=\"T_0e5f2e36_5723_11e9_8d96_28c63fca1b8c\" ><thead>    <tr>        <th class=\"blank level0\" ></th>        <th class=\"col_heading level0 col0\" >Pct_of_Total</th>        <th class=\"col_heading level0 col1\" >Pct_by_Sex</th>    </tr>    <tr>        <th class=\"index_name level0\" >Name</th>        <th class=\"blank\" ></th>        <th class=\"blank\" ></th>    </tr></thead><tbody>\n",
       "                <tr>\n",
       "                        <th id=\"T_0e5f2e36_5723_11e9_8d96_28c63fca1b8clevel0_row0\" class=\"row_heading level0 row0\" >Olivia</th>\n",
       "                        <td id=\"T_0e5f2e36_5723_11e9_8d96_28c63fca1b8crow0_col0\" class=\"data row0 col0\" >0.538474</td>\n",
       "                        <td id=\"T_0e5f2e36_5723_11e9_8d96_28c63fca1b8crow0_col1\" class=\"data row0 col1\" >1.12439</td>\n",
       "            </tr>\n",
       "            <tr>\n",
       "                        <th id=\"T_0e5f2e36_5723_11e9_8d96_28c63fca1b8clevel0_row1\" class=\"row_heading level0 row1\" >Sophia</th>\n",
       "                        <td id=\"T_0e5f2e36_5723_11e9_8d96_28c63fca1b8crow1_col0\" class=\"data row1 col0\" >0.506015</td>\n",
       "                        <td id=\"T_0e5f2e36_5723_11e9_8d96_28c63fca1b8crow1_col1\" class=\"data row1 col1\" >1.05662</td>\n",
       "            </tr>\n",
       "            <tr>\n",
       "                        <th id=\"T_0e5f2e36_5723_11e9_8d96_28c63fca1b8clevel0_row2\" class=\"row_heading level0 row2\" >Isabella</th>\n",
       "                        <td id=\"T_0e5f2e36_5723_11e9_8d96_28c63fca1b8crow2_col0\" class=\"data row2 col0\" >0.464386</td>\n",
       "                        <td id=\"T_0e5f2e36_5723_11e9_8d96_28c63fca1b8crow2_col1\" class=\"data row2 col1\" >0.969691</td>\n",
       "            </tr>\n",
       "            <tr>\n",
       "                        <th id=\"T_0e5f2e36_5723_11e9_8d96_28c63fca1b8clevel0_row3\" class=\"row_heading level0 row3\" >Ava</th>\n",
       "                        <td id=\"T_0e5f2e36_5723_11e9_8d96_28c63fca1b8crow3_col0\" class=\"data row3 col0\" >0.426839</td>\n",
       "                        <td id=\"T_0e5f2e36_5723_11e9_8d96_28c63fca1b8crow3_col1\" class=\"data row3 col1\" >0.891289</td>\n",
       "            </tr>\n",
       "            <tr>\n",
       "                        <th id=\"T_0e5f2e36_5723_11e9_8d96_28c63fca1b8clevel0_row4\" class=\"row_heading level0 row4\" >Mia</th>\n",
       "                        <td id=\"T_0e5f2e36_5723_11e9_8d96_28c63fca1b8crow4_col0\" class=\"data row4 col0\" >0.367472</td>\n",
       "                        <td id=\"T_0e5f2e36_5723_11e9_8d96_28c63fca1b8crow4_col1\" class=\"data row4 col1\" >0.767322</td>\n",
       "            </tr>\n",
       "            <tr>\n",
       "                        <th id=\"T_0e5f2e36_5723_11e9_8d96_28c63fca1b8clevel0_row5\" class=\"row_heading level0 row5\" >Maya</th>\n",
       "                        <td id=\"T_0e5f2e36_5723_11e9_8d96_28c63fca1b8crow5_col0\" class=\"data row5 col0\" >0.10739</td>\n",
       "                        <td id=\"T_0e5f2e36_5723_11e9_8d96_28c63fca1b8crow5_col1\" class=\"data row5 col1\" >0.224243</td>\n",
       "            </tr>\n",
       "    </tbody></table>"
      ],
      "text/plain": [
       "<pandas.io.formats.style.Styler at 0x1644e827dd8>"
      ]
     },
     "execution_count": 17,
     "metadata": {},
     "output_type": "execute_result"
    }
   ],
   "source": [
    "# get top 5 female names from 2014\n",
    "top5_2014_df = rank[(rank.Year == 2014) & (rank.Sex == 'F')].sort_values('Count', ascending=False)[:5]\n",
    "top5_2014 = top5_2014_df.Name.values.tolist()\n",
    "top5_2014.append('Maya')\n",
    "\n",
    "# subset the top 5 female names from 2014 with Maya\n",
    "top5_df = babynames[(babynames.Name.isin(top5_2014)) & (babynames.Year == 2014) & (babynames.Sex == 'F')].set_index('Name', drop=True)\n",
    "top5_df[['Pct_of_Total','Pct_by_Sex']].style.background_gradient(cmap='cividis')"
   ]
  },
  {
   "cell_type": "markdown",
   "metadata": {},
   "source": [
    "Although none of the top five accounted for more that 1.12% of female names in 2014, Maya come in at the 73rd most popular name and accounts for on 0.22% of females born that year (5 times less than the most popular name). It can be argued that Maya is a unique name, but so are all of the other names. I will have to assume that my hearing the name Maya more frequently is simply the result of the frequency illusion bias. A better question might be: is it more unique to give your daughter a name that doesn't end in 'a'?\n",
    "\n",
    "## 2.1 The Age of Henry\n",
    "Now to figure out the average age of Henrys. First, we need to pull in data from the [SSA's Actuarial Life Tables](https://www.ssa.gov/oact/STATS/table4c6.html). You can see the head of the table and definitions of features below."
   ]
  },
  {
   "cell_type": "code",
   "execution_count": 19,
   "metadata": {},
   "outputs": [
    {
     "data": {
      "text/html": [
       "<div>\n",
       "<style scoped>\n",
       "    .dataframe tbody tr th:only-of-type {\n",
       "        vertical-align: middle;\n",
       "    }\n",
       "\n",
       "    .dataframe tbody tr th {\n",
       "        vertical-align: top;\n",
       "    }\n",
       "\n",
       "    .dataframe thead th {\n",
       "        text-align: right;\n",
       "    }\n",
       "</style>\n",
       "<table border=\"1\" class=\"dataframe\">\n",
       "  <thead>\n",
       "    <tr style=\"text-align: right;\">\n",
       "      <th></th>\n",
       "      <th>Year</th>\n",
       "      <th>x</th>\n",
       "      <th>q(x)</th>\n",
       "      <th>l(x)</th>\n",
       "      <th>d(x)</th>\n",
       "      <th>L(x)</th>\n",
       "      <th>T(x)</th>\n",
       "      <th>e(x)</th>\n",
       "      <th>D(x)</th>\n",
       "      <th>M(x)</th>\n",
       "      <th>A(x)</th>\n",
       "      <th>N(x)</th>\n",
       "      <th>a(x)</th>\n",
       "      <th>12a(x)</th>\n",
       "    </tr>\n",
       "  </thead>\n",
       "  <tbody>\n",
       "    <tr>\n",
       "      <th>0</th>\n",
       "      <td>1900</td>\n",
       "      <td>0</td>\n",
       "      <td>0.145957</td>\n",
       "      <td>100000</td>\n",
       "      <td>14596</td>\n",
       "      <td>90026</td>\n",
       "      <td>4640595</td>\n",
       "      <td>46.41</td>\n",
       "      <td>100000</td>\n",
       "      <td>39810</td>\n",
       "      <td>0.3981</td>\n",
       "      <td>2289435</td>\n",
       "      <td>22.8943</td>\n",
       "      <td>269.23</td>\n",
       "    </tr>\n",
       "    <tr>\n",
       "      <th>1</th>\n",
       "      <td>1900</td>\n",
       "      <td>1</td>\n",
       "      <td>0.038140</td>\n",
       "      <td>85404</td>\n",
       "      <td>3257</td>\n",
       "      <td>83776</td>\n",
       "      <td>4550569</td>\n",
       "      <td>53.28</td>\n",
       "      <td>83159</td>\n",
       "      <td>25598</td>\n",
       "      <td>0.3078</td>\n",
       "      <td>2189435</td>\n",
       "      <td>26.3283</td>\n",
       "      <td>310.44</td>\n",
       "    </tr>\n",
       "    <tr>\n",
       "      <th>2</th>\n",
       "      <td>1900</td>\n",
       "      <td>2</td>\n",
       "      <td>0.019577</td>\n",
       "      <td>82147</td>\n",
       "      <td>1608</td>\n",
       "      <td>81343</td>\n",
       "      <td>4466793</td>\n",
       "      <td>54.38</td>\n",
       "      <td>77884</td>\n",
       "      <td>22510</td>\n",
       "      <td>0.2890</td>\n",
       "      <td>2106276</td>\n",
       "      <td>27.0436</td>\n",
       "      <td>319.02</td>\n",
       "    </tr>\n",
       "  </tbody>\n",
       "</table>\n",
       "</div>"
      ],
      "text/plain": [
       "   Year  x      q(x)    l(x)   d(x)   L(x)     T(x)   e(x)    D(x)   M(x)  \\\n",
       "0  1900  0  0.145957  100000  14596  90026  4640595  46.41  100000  39810   \n",
       "1  1900  1  0.038140   85404   3257  83776  4550569  53.28   83159  25598   \n",
       "2  1900  2  0.019577   82147   1608  81343  4466793  54.38   77884  22510   \n",
       "\n",
       "     A(x)     N(x)     a(x)  12a(x)  \n",
       "0  0.3981  2289435  22.8943  269.23  \n",
       "1  0.3078  2189435  26.3283  310.44  \n",
       "2  0.2890  2106276  27.0436  319.02  "
      ]
     },
     "execution_count": 19,
     "metadata": {},
     "output_type": "execute_result"
    }
   ],
   "source": [
    "# load the actuarial life tables\n",
    "life_table_males = pd.read_csv('https://www.ssa.gov/oact/HistEst/PerLifeTables/2018/PerLifeTables_M_Hist_TR2018.csv', skiprows=4)\n",
    "life_table_males.head(3)"
   ]
  },
  {
   "cell_type": "markdown",
   "metadata": {},
   "source": [
    "### Defining Actuarial Table Features\n",
    "\n",
    "| Column        | Description                                                         |\n",
    "|---------------|---------------------------------------------------------------------|\n",
    "| x             | The age of the person.                                              |\n",
    "| q<sub>x</sub> | The probability that a person exact age x will die within one year. |\n",
    "| l<sub>x</sub> | The number of persons surviving to exact age x (in 100,000s).       |\n",
    "| d<sub>x</sub> | The number of deaths between exact ages x and x+1.                  |\n",
    "| L<sub>x</sub> | The number of person-years lived between exact ages x and x+1.      |\n",
    "| T<sub>x</sub> | The number of person-years lived after exact age x.                 |\n",
    "| e<sub>x</sub> | The average number of years of life remaining at exact age x.       |\n",
    "\n",
    "The rest of the table contains actuarial calculations that you can get more information about in the SSA's [Definitions of Life Tables Functions](https://www.ssa.gov/oact/HistEst/PerLifeTables/LifeTableDefinitions.pdf) document, but we won't be using those for now.\n",
    "\n",
    "Next, I am going to merge the life table data with Henry's dataframe to calculate the estimated number of living Henry's for each year. Below is a plot of the estimated number of living Henrys by age.  "
   ]
  },
  {
   "cell_type": "code",
   "execution_count": 21,
   "metadata": {},
   "outputs": [
    {
     "data": {
      "text/html": [
       "<iframe id=\"igraph\" scrolling=\"no\" style=\"border:none;\" seamless=\"seamless\" src=\"https://plot.ly/~echris/8.embed\" height=\"525px\" width=\"100%\"></iframe>"
      ],
      "text/plain": [
       "<plotly.tools.PlotlyDisplay object>"
      ]
     },
     "execution_count": 21,
     "metadata": {},
     "output_type": "execute_result"
    }
   ],
   "source": [
    "# get dataframe of Henry\n",
    "henry = get_info('Henry', 'M')\n",
    "\n",
    "# extract subset relevant to those alive in 2015 since this is most recent year available\n",
    "life_table_males_2015 = life_table_males.loc[life_table_males['Year'] + life_table_males['x'] == 2017]\n",
    "\n",
    "# merge with life tables\n",
    "living_henrys = henry.merge(life_table_males_2015, on='Year')\n",
    "\n",
    "# compute estimated number of living Henrys\n",
    "living_henrys['n_alive'] = living_henrys['l(x)'] * living_henrys['Count'] / (10**5)\n",
    "\n",
    "# plot the estimated number of living Henrys by age\n",
    "trace = go.Scatter(\n",
    "            x = living_henrys['x'],\n",
    "            y = living_henrys['n_alive'],\n",
    "            mode = 'lines'\n",
    "            )\n",
    "        \n",
    "layout = go.Layout(\n",
    "            title='Estimated Number of Living Henrys by Age',\n",
    "            xaxis=dict(\n",
    "                dtick=10,\n",
    "                title='Age',\n",
    "                titlefont=dict(\n",
    "                    family='Courier New, monospace',\n",
    "                   size=18,\n",
    "                    color='#7f7f7f'\n",
    "                )\n",
    "            ),\n",
    "            yaxis=dict(\n",
    "                title='No. of Living Henrys',\n",
    "                titlefont=dict(\n",
    "                    family='Courier New, monospace',\n",
    "                    size=18,\n",
    "                    color='#7f7f7f'\n",
    "                    )\n",
    "                )\n",
    "            )\n",
    "        \n",
    "fig = go.Figure(data=[trace], layout=layout)\n",
    "py.iplot(fig, filename='number-of-living-henrys')"
   ]
  },
  {
   "cell_type": "markdown",
   "metadata": {},
   "source": [
    "We can see that although there is a large grouping of Henrys aged 50-70, they are dwarfed by the number of Henrys that have been born in the past 10 years.  This should have a noticeable effect by dragging the average under the age of 50.  Let's calculate the average age and see."
   ]
  },
  {
   "cell_type": "code",
   "execution_count": 22,
   "metadata": {},
   "outputs": [
    {
     "name": "stdout",
     "output_type": "stream",
     "text": [
      "The average age of Henry is 37.1\n"
     ]
    }
   ],
   "source": [
    "# Create a column of the product of age and number alive\n",
    "living_henrys['rel_age'] = living_henrys.x * living_henrys.n_alive\n",
    "\n",
    "# From weighted age, calculate the average age\n",
    "avg_age = living_henrys.rel_age.sum() / living_henrys.n_alive.sum()\n",
    "\n",
    "print('The average age of Henry is %.1f' % avg_age)"
   ]
  },
  {
   "cell_type": "markdown",
   "metadata": {},
   "source": [
    "I guess Henrys could say they are getting younger every day (statistically speaking, of course). This is an important reminder that an average is not always a good statistic. Afterall, we have over twice as many 62-year-old Henrys and five times as many 2-year-old Henrys. We can get a better sense of how death plays a roll in this moving average by comparing the births by year to the estimated number of living."
   ]
  },
  {
   "cell_type": "code",
   "execution_count": 23,
   "metadata": {},
   "outputs": [
    {
     "data": {
      "text/html": [
       "<iframe id=\"igraph\" scrolling=\"no\" style=\"border:none;\" seamless=\"seamless\" src=\"https://plot.ly/~echris/10.embed\" height=\"525px\" width=\"100%\"></iframe>"
      ],
      "text/plain": [
       "<plotly.tools.PlotlyDisplay object>"
      ]
     },
     "execution_count": 23,
     "metadata": {},
     "output_type": "execute_result"
    }
   ],
   "source": [
    "# plot the number of Henrys born compared to estimated living\n",
    "trace0 = go.Scatter(\n",
    "            x = living_henrys['Year'],\n",
    "            y = living_henrys['n_alive'],\n",
    "            mode = 'lines',\n",
    "            name = 'No. Living',\n",
    "            fill='tonexty'\n",
    "            )\n",
    "\n",
    "trace1 = go.Scatter(\n",
    "            x = living_henrys['Year'],\n",
    "            y = living_henrys['Count'],\n",
    "            mode = 'lines',\n",
    "            name = 'No. of Births'\n",
    "            )\n",
    "        \n",
    "layout = go.Layout(\n",
    "            title='Estimated Number of Living Henrys Compared to Number of Births',\n",
    "            xaxis=dict(\n",
    "                dtick=10,\n",
    "                title='Age',\n",
    "                titlefont=dict(\n",
    "                    family='Courier New, monospace',\n",
    "                   size=18,\n",
    "                    color='#7f7f7f'\n",
    "                )\n",
    "            ),\n",
    "            yaxis=dict(\n",
    "                title='No. of Living Henrys',\n",
    "                titlefont=dict(\n",
    "                    family='Courier New, monospace',\n",
    "                    size=18,\n",
    "                    color='#7f7f7f'\n",
    "                    )\n",
    "                )\n",
    "            )\n",
    "        \n",
    "fig = go.Figure(data=[trace0, trace1], layout=layout)\n",
    "py.iplot(fig, filename='birth_count_vs_living')"
   ]
  },
  {
   "cell_type": "markdown",
   "metadata": {},
   "source": [
    "## 3.0 Conclusion\n",
    "It appears that I was wrong on both accounts: there are not an inordinate number of Mayas being born and the average age of Henry is not even close to 80. The name Maya only accounted for 0.22% of females born in 2014. However, the name has unarguably gained popularity in the last 30 years. The average age of Henry is only 37, but the guess of 80 was not completely off-base. The peak year for Henrys was 1921, which means there are plenty of Henrys born 80 or more years ago.\n",
    "\n",
    "## 4.0 Bonus Material\n",
    "I fell into a bit of a rabbit hole while looking at the babynames and actuarial data, so here are some additional insights that I found. First, lets look at the peak years for Henry and Maya."
   ]
  },
  {
   "cell_type": "code",
   "execution_count": 28,
   "metadata": {},
   "outputs": [
    {
     "data": {
      "text/html": [
       "<iframe id=\"igraph\" scrolling=\"no\" style=\"border:none;\" seamless=\"seamless\" src=\"https://plot.ly/~echris/20.embed\" height=\"525px\" width=\"100%\"></iframe>"
      ],
      "text/plain": [
       "<plotly.tools.PlotlyDisplay object>"
      ]
     },
     "execution_count": 28,
     "metadata": {},
     "output_type": "execute_result"
    }
   ],
   "source": [
    "# plot max Henrys and max Mayas\n",
    "trace0 = go.Scatter(\n",
    "            x = maya['Year'],\n",
    "            y = maya['Count'],\n",
    "            mode = 'lines',\n",
    "            name = 'Maya'\n",
    "            )\n",
    "\n",
    "trace1 = go.Scatter(\n",
    "            x = henry['Year'],\n",
    "            y = henry['Count'],\n",
    "            mode = 'lines',\n",
    "            name = 'Henry'\n",
    "            )\n",
    "        \n",
    "layout = go.Layout(\n",
    "            title='Comparing Henry to Maya in Birth Count',\n",
    "            xaxis=dict(\n",
    "                dtick=10,\n",
    "                title='Year',\n",
    "                titlefont=dict(\n",
    "                    family='Courier New, monospace',\n",
    "                   size=18,\n",
    "                    color='#7f7f7f'\n",
    "                )\n",
    "            ),\n",
    "            yaxis=dict(\n",
    "                title='No. of Births',\n",
    "                titlefont=dict(\n",
    "                          family='Courier New, monospace',\n",
    "                          size=18,\n",
    "                          color='#7f7f7f'\n",
    "                          )\n",
    "                      ),\n",
    "            \n",
    "            annotations=[\n",
    "                 dict(\n",
    "                      x=henry[henry.Count == henry.Count.max()].Year.values[0],\n",
    "                      y=henry.Count.max(),\n",
    "                      xref='x',\n",
    "                      yref='y',\n",
    "                      text='Max Henry Births',\n",
    "                      showarrow=True,\n",
    "                      arrowhead=7,\n",
    "                      ax=20,\n",
    "                      ay=-40\n",
    "                     ),\n",
    "                 dict(\n",
    "                      x=maya[maya.Count == maya.Count.max()].Year.values[0],\n",
    "                      y=maya.Count.max(),\n",
    "                      xref='x',\n",
    "                      yref='y',\n",
    "                      text='Max Maya Births',\n",
    "                      showarrow=True,\n",
    "                      arrowhead=7,\n",
    "                      ax=-20,\n",
    "                      ay=-40\n",
    "                     )\n",
    "             ]\n",
    "            )\n",
    "        \n",
    "fig = go.Figure(data=[trace0, trace1], layout=layout)\n",
    "py.iplot(fig, filename='max_maya_and_henry')"
   ]
  },
  {
   "cell_type": "markdown",
   "metadata": {},
   "source": [
    "It will be interesting to see if Henry can reach its 1920s peak or if it will continue to level off and drop. It looked like Maya was going to start climbing above Henry in popularity, but the name really started dropping off since its peak in 2006.\n",
    "\n",
    "Next, let's add data for my wife (Raina) and I."
   ]
  },
  {
   "cell_type": "code",
   "execution_count": 29,
   "metadata": {},
   "outputs": [
    {
     "data": {
      "text/html": [
       "<iframe id=\"igraph\" scrolling=\"no\" style=\"border:none;\" seamless=\"seamless\" src=\"https://plot.ly/~echris/12.embed\" height=\"525px\" width=\"100%\"></iframe>"
      ],
      "text/plain": [
       "<plotly.tools.PlotlyDisplay object>"
      ]
     },
     "execution_count": 29,
     "metadata": {},
     "output_type": "execute_result"
    }
   ],
   "source": [
    "# fetch data for family names\n",
    "maya = get_info('Maya', 'F')\n",
    "raina = get_info('Raina', 'F')\n",
    "chris = get_info('Christopher', 'M')\n",
    "\n",
    "# plot birth counts for all family names\n",
    "trace0 = go.Scatter(\n",
    "            x = maya['Year'],\n",
    "            y = maya['Count'],\n",
    "            mode = 'lines',\n",
    "            name = 'Maya'\n",
    "            )\n",
    "\n",
    "trace1 = go.Scatter(\n",
    "            x = henry['Year'],\n",
    "            y = henry['Count'],\n",
    "            mode = 'lines',\n",
    "            name = 'Henry'\n",
    "            )\n",
    "trace2 = go.Scatter(\n",
    "            x = raina['Year'],\n",
    "            y = raina['Count'],\n",
    "            mode = 'lines',\n",
    "            name = 'Raina'\n",
    "            )\n",
    "\n",
    "trace3 = go.Scatter(\n",
    "            x = chris['Year'],\n",
    "            y = chris['Count'],\n",
    "            mode = 'lines',\n",
    "            name = 'Chris'\n",
    "            )\n",
    "        \n",
    "layout = go.Layout(\n",
    "            title='Comparing Our Family\\'s Names by Birth Count',\n",
    "            xaxis=dict(\n",
    "                dtick=10,\n",
    "                title='Year',\n",
    "                titlefont=dict(\n",
    "                    family='Courier New, monospace',\n",
    "                   size=18,\n",
    "                    color='#7f7f7f'\n",
    "                )\n",
    "            ),\n",
    "            yaxis=dict(\n",
    "                title='No. of Births',\n",
    "                titlefont=dict(\n",
    "                          family='Courier New, monospace',\n",
    "                          size=18,\n",
    "                          color='#7f7f7f'\n",
    "                          )\n",
    "                      )\n",
    "            )\n",
    "  \n",
    "data = [trace0, trace1, trace2, trace3]\n",
    "fig = go.Figure(data=data, layout=layout)\n",
    "py.iplot(fig, filename='family_name_trends')"
   ]
  },
  {
   "cell_type": "markdown",
   "metadata": {},
   "source": [
    "Wow. I often joke about there being so many Chris's that we need to number off, but look at Mt. Chris up there! It towers over the other names so much that we lose all visual information about Raina and most of it from Maya. Let's compare the name popularities on a logarithmic scale to get a better sense of how their popularity has changed over time."
   ]
  },
  {
   "cell_type": "code",
   "execution_count": 30,
   "metadata": {},
   "outputs": [
    {
     "data": {
      "text/html": [
       "<iframe id=\"igraph\" scrolling=\"no\" style=\"border:none;\" seamless=\"seamless\" src=\"https://plot.ly/~echris/18.embed\" height=\"525px\" width=\"100%\"></iframe>"
      ],
      "text/plain": [
       "<plotly.tools.PlotlyDisplay object>"
      ]
     },
     "execution_count": 30,
     "metadata": {},
     "output_type": "execute_result"
    }
   ],
   "source": [
    "# plot family name birth counts on logarithmic scale\n",
    "trace0 = go.Scatter(\n",
    "            x = maya['Year'],\n",
    "            y = np.log(1 + maya['Count']),\n",
    "            mode = 'lines',\n",
    "            name = 'Maya'\n",
    "            )\n",
    "\n",
    "trace1 = go.Scatter(\n",
    "            x = henry['Year'],\n",
    "            y = np.log(1 + henry['Count']),\n",
    "            mode = 'lines',\n",
    "            name = 'Henry'\n",
    "            )\n",
    "trace2 = go.Scatter(\n",
    "            x = raina['Year'],\n",
    "            y = np.log(1 + raina['Count']),\n",
    "            mode = 'lines',\n",
    "            name = 'Raina'\n",
    "            )\n",
    "\n",
    "trace3 = go.Scatter(\n",
    "            x = chris['Year'],\n",
    "            y = np.log(1 + chris['Count']),\n",
    "            mode = 'lines',\n",
    "            name = 'Chris'\n",
    "            )\n",
    "        \n",
    "layout = go.Layout(\n",
    "            title='Comparing Our Family\\'s Names by Birth Count (Log)',\n",
    "            xaxis=dict(\n",
    "                dtick=10,\n",
    "                title='Year',\n",
    "                titlefont=dict(\n",
    "                    family='Courier New, monospace',\n",
    "                   size=18,\n",
    "                    color='#7f7f7f'\n",
    "                )\n",
    "            ),\n",
    "            yaxis=dict(\n",
    "                title='No. of Births',\n",
    "                titlefont=dict(\n",
    "                          family='Courier New, monospace',\n",
    "                          size=18,\n",
    "                          color='#7f7f7f'\n",
    "                          )\n",
    "                      )\n",
    "            )\n",
    "  \n",
    "data = [trace0, trace1, trace2, trace3]\n",
    "fig = go.Figure(data=data, layout=layout)\n",
    "py.iplot(fig, filename='family_name_trends_log')"
   ]
  },
  {
   "cell_type": "markdown",
   "metadata": {},
   "source": [
    "After converting to a logarithmic scale we can better see the change in name popularity over time.  We see that although Raina still remains a relatively obscure name, Maya appears much closer to Henry and Chris.  It is fascinating to me that both Raina ***and*** Maya don't seem to appear in the US until World War II. Regardless, one thing is clear, my wife takes the crown on most unique name in our house.\n",
    "\n",
    "While looking at the data, I noticed some babies named Unknown showed up. Just out of curiosity, let's see if there are any trends in the number of people who were too tired to give their baby a name.  Anybody who has gone labor knows what I'm talking about.  I was exhausted and all I had to do was support the real work that my wife was doing. Honestly, I'm surprised we don't see any \"Who Cares\" on the list."
   ]
  },
  {
   "cell_type": "code",
   "execution_count": 31,
   "metadata": {},
   "outputs": [
    {
     "data": {
      "text/html": [
       "<iframe id=\"igraph\" scrolling=\"no\" style=\"border:none;\" seamless=\"seamless\" src=\"https://plot.ly/~echris/14.embed\" height=\"525px\" width=\"100%\"></iframe>"
      ],
      "text/plain": [
       "<plotly.tools.PlotlyDisplay object>"
      ]
     },
     "execution_count": 31,
     "metadata": {},
     "output_type": "execute_result"
    }
   ],
   "source": [
    "# fetch data on babies named Unknown\n",
    "unknown = babynames[babynames.Name == 'Unknown']\n",
    "\n",
    "# plot birth count of babies named Unknown\n",
    "trace = go.Scatter(\n",
    "            x = unknown['Year'],\n",
    "            y = unknown['Count'],\n",
    "            mode = 'lines'\n",
    "            )\n",
    "        \n",
    "layout = go.Layout(\n",
    "            title='Too Tired To Worry About Names',\n",
    "            xaxis=dict(\n",
    "                dtick=10,\n",
    "                title='Year',\n",
    "                titlefont=dict(\n",
    "                    family='Courier New, monospace',\n",
    "                   size=18,\n",
    "                    color='#7f7f7f'\n",
    "                )\n",
    "            ),\n",
    "            yaxis=dict(\n",
    "                title='No. of Births',\n",
    "                titlefont=dict(\n",
    "                    family='Courier New, monospace',\n",
    "                    size=18,\n",
    "                    color='#7f7f7f'\n",
    "                    )\n",
    "                )\n",
    "            )\n",
    "        \n",
    "fig = go.Figure(data=[trace], layout=layout)\n",
    "py.iplot(fig, filename='number-of-known-unknowns')"
   ]
  },
  {
   "cell_type": "markdown",
   "metadata": {},
   "source": [
    "It looks like there was a bit of an issue with naming babies in the 1950s?  Did parents get tired of having to name all of their babyboomer kids? If anyone knows an Unknown, let me know. I really want to know how things turned out.  "
   ]
  },
  {
   "cell_type": "code",
   "execution_count": null,
   "metadata": {},
   "outputs": [],
   "source": []
  }
 ],
 "metadata": {
  "kernelspec": {
   "display_name": "Python 3",
   "language": "python",
   "name": "python3"
  },
  "language_info": {
   "codemirror_mode": {
    "name": "ipython",
    "version": 3
   },
   "file_extension": ".py",
   "mimetype": "text/x-python",
   "name": "python",
   "nbconvert_exporter": "python",
   "pygments_lexer": "ipython3",
   "version": "3.6.6"
  }
 },
 "nbformat": 4,
 "nbformat_minor": 2
}
